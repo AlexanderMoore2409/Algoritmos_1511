{
  "nbformat": 4,
  "nbformat_minor": 0,
  "metadata": {
    "colab": {
      "provenance": [],
      "collapsed_sections": [],
      "authorship_tag": "ABX9TyPZoW92B0CBlkexwpd8TtuV",
      "include_colab_link": true
    },
    "kernelspec": {
      "name": "python3",
      "display_name": "Python 3"
    },
    "language_info": {
      "name": "python"
    }
  },
  "cells": [
    {
      "cell_type": "markdown",
      "metadata": {
        "id": "view-in-github",
        "colab_type": "text"
      },
      "source": [
        "<a href=\"https://colab.research.google.com/github/AlexanderMoore2409/Algoritmos_1511/blob/main/Tarea_7_Patron.ipynb\" target=\"_parent\"><img src=\"https://colab.research.google.com/assets/colab-badge.svg\" alt=\"Open In Colab\"/></a>"
      ]
    },
    {
      "cell_type": "code",
      "execution_count": 13,
      "metadata": {
        "colab": {
          "base_uri": "https://localhost:8080/"
        },
        "id": "vmHXjGzX_okU",
        "outputId": "8fc0e11b-3627-4ec2-82a9-45b4531ebd85"
      },
      "outputs": [
        {
          "output_type": "stream",
          "name": "stdout",
          "text": [
            "None\n",
            "\n"
          ]
        }
      ],
      "source": [
        "from collections import Counter\n",
        "\n",
        "def caracteres_comunes(cadena_a,cadena_b):\n",
        "  contador_a = Counter(cadena_a)\n",
        "  contador_b = Counter(cadena_b)\n",
        "\n",
        "  comunes = contador_a & contador_b\n",
        "\n",
        "  if len(comunes) == 0:\n",
        "      return None\n",
        "  \n",
        "  comunes = list(comunes.elements())\n",
        "  comunes = sorted(comunes)\n",
        "  return comunes\n",
        "\n",
        "a = [1110010001101110100011001111000110001110001110001110100011010001110001110001110001110001110001110001110001110001110001110001110001110001110001110001110001110001110001110001110001110001110001110001110001110001110001110001110001110001110001110001110001110001101000111110101010100111100011000]\n",
        "b = [1010101]\n",
        "\n",
        "print(caracteres_comunes(a, b))\n",
        "\n",
        "print()"
      ]
    }
  ]
}