{
  "nbformat": 4,
  "nbformat_minor": 0,
  "metadata": {
    "colab": {
      "provenance": [],
      "authorship_tag": "ABX9TyM1p1MNB+G51tWtHpW8+7fH",
      "include_colab_link": true
    },
    "kernelspec": {
      "name": "python3",
      "display_name": "Python 3"
    },
    "language_info": {
      "name": "python"
    }
  },
  "cells": [
    {
      "cell_type": "markdown",
      "metadata": {
        "id": "view-in-github",
        "colab_type": "text"
      },
      "source": [
        "<a href=\"https://colab.research.google.com/github/AlexanderMoore2409/Algoritmos_1511/blob/main/Tarea_4.ipynb\" target=\"_parent\"><img src=\"https://colab.research.google.com/assets/colab-badge.svg\" alt=\"Open In Colab\"/></a>"
      ]
    },
    {
      "cell_type": "code",
      "execution_count": 81,
      "metadata": {
        "colab": {
          "base_uri": "https://localhost:8080/"
        },
        "id": "nDCE0r4020og",
        "outputId": "18643943-b856-4387-c6a7-4d550980ca0a"
      },
      "outputs": [
        {
          "output_type": "stream",
          "name": "stdout",
          "text": [
            "23:59:00\n"
          ]
        }
      ],
      "source": [
        "from datetime import datetime, date, time, timedelta\n",
        "import calendar\n",
        "\n",
        "inicial = time(00,00)\n",
        "final = time(23,59)\n",
        "\n",
        "print(final)"
      ]
    },
    {
      "cell_type": "code",
      "source": [
        "inicial = 00\n",
        "final = 23\n",
        "\n",
        "palindromos = []\n",
        "\n",
        "for numero in range(inicial, final+1):\n",
        "\n",
        "  cadena = str(numero)\n",
        "  reverso = cadena[::-1]\n",
        "  if cadena == reverso:\n",
        "    palindromos.append(numero)\n",
        "\n",
        "print(palindromos)"
      ],
      "metadata": {
        "colab": {
          "base_uri": "https://localhost:8080/"
        },
        "id": "o4wHiQeUCGA5",
        "outputId": "6d6056b9-0dda-4eb5-aa2c-18372e3218b3"
      },
      "execution_count": 85,
      "outputs": [
        {
          "output_type": "stream",
          "name": "stdout",
          "text": [
            "[0, 1, 2, 3, 4, 5, 6, 7, 8, 9, 11, 22]\n"
          ]
        }
      ]
    },
    {
      "cell_type": "code",
      "source": [],
      "metadata": {
        "id": "HGminOQaHitQ"
      },
      "execution_count": 88,
      "outputs": []
    }
  ]
}