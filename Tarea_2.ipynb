{
  "nbformat": 4,
  "nbformat_minor": 0,
  "metadata": {
    "colab": {
      "name": "Tarea 2",
      "provenance": [],
      "collapsed_sections": [],
      "authorship_tag": "ABX9TyM9V6V/baSYXhK4ziMiMyvu",
      "include_colab_link": true
    },
    "kernelspec": {
      "name": "python3",
      "display_name": "Python 3"
    },
    "language_info": {
      "name": "python"
    }
  },
  "cells": [
    {
      "cell_type": "markdown",
      "metadata": {
        "id": "view-in-github",
        "colab_type": "text"
      },
      "source": [
        "<a href=\"https://colab.research.google.com/github/AlexanderMoore2409/Algoritmos_1511/blob/main/Tarea_2.ipynb\" target=\"_parent\"><img src=\"https://colab.research.google.com/assets/colab-badge.svg\" alt=\"Open In Colab\"/></a>"
      ]
    },
    {
      "cell_type": "code",
      "execution_count": 16,
      "metadata": {
        "colab": {
          "base_uri": "https://localhost:8080/"
        },
        "id": "1aSGzv59bHIY",
        "outputId": "8510a874-004c-45d4-dca9-ddeac45ede58"
      },
      "outputs": [
        {
          "name": "stdout",
          "output_type": "stream",
          "text": [
            "Tarea: Habitantes de un edificio.\n",
            "Ingrese la cantidad de personas en la puerta A1: 4\n",
            "Ingrese la cantidad de personas en la puerta B1: 4\n",
            "Ingrese la cantidad de personas en la puerta C1: 5\n",
            "Ingrese la cantidad de personas en la puerta D1: 6\n",
            "Ingrese la cantidad de personas en la puerta A2: 7\n",
            "Ingrese la cantidad de personas en la puerta B2: 8\n",
            "Ingrese la cantidad de personas en la puerta C2: 9\n",
            "Ingrese la cantidad de personas en la puerta D2: 1\n",
            "Ingrese la cantidad de personas en la puerta A3: 2\n",
            "Ingrese la cantidad de personas en la puerta B3: 3\n",
            "Ingrese la cantidad de personas en la puerta C3: 4\n",
            "Ingrese la cantidad de personas en la puerta D3: 5\n",
            "Ingrese la cantidad de personas en la puerta A4: 1\n",
            "Ingrese la cantidad de personas en la puerta B4: 2\n",
            "Ingrese la cantidad de personas en la puerta C4: 3\n",
            "Ingrese la cantidad de personas en la puerta D4: 4\n",
            "Ingrese la cantidad de personas en la puerta A5: 1\n",
            "Ingrese la cantidad de personas en la puerta B5: 2\n",
            "Ingrese la cantidad de personas en la puerta C5: 3\n",
            "Ingrese la cantidad de personas en la puerta D5: 4\n",
            "Ingrese la cantidad de personas en la puerta A6: 5\n",
            "Ingrese la cantidad de personas en la puerta B6: 6\n",
            "Ingrese la cantidad de personas en la puerta C6: 7\n",
            "Ingrese la cantidad de personas en la puerta D6: 8\n",
            "Introduce la puerta con el mayor numero de habitantes: A2\n"
          ]
        }
      ],
      "source": [
        "print(\"Tarea: Habitantes de un edificio.\")\n",
        "A1 = int(input(\"Ingrese la cantidad de personas en la puerta A1: \"))\n",
        "B1 = int(input(\"Ingrese la cantidad de personas en la puerta B1: \"))\n",
        "C1 = int(input(\"Ingrese la cantidad de personas en la puerta C1: \"))\n",
        "D1 = int(input(\"Ingrese la cantidad de personas en la puerta D1: \"))\n",
        "\n",
        "A2 = int(input(\"Ingrese la cantidad de personas en la puerta A2: \"))\n",
        "B2 = int(input(\"Ingrese la cantidad de personas en la puerta B2: \"))\n",
        "C2 = int(input(\"Ingrese la cantidad de personas en la puerta C2: \"))\n",
        "D2 = int(input(\"Ingrese la cantidad de personas en la puerta D2: \"))\n",
        "\n",
        "A3 = int(input(\"Ingrese la cantidad de personas en la puerta A3: \"))\n",
        "B3 = int(input(\"Ingrese la cantidad de personas en la puerta B3: \"))\n",
        "C3 = int(input(\"Ingrese la cantidad de personas en la puerta C3: \"))\n",
        "D3 = int(input(\"Ingrese la cantidad de personas en la puerta D3: \"))\n",
        "\n",
        "A4 = int(input(\"Ingrese la cantidad de personas en la puerta A4: \"))\n",
        "B4 = int(input(\"Ingrese la cantidad de personas en la puerta B4: \"))\n",
        "C4 = int(input(\"Ingrese la cantidad de personas en la puerta C4: \"))\n",
        "D4 = int(input(\"Ingrese la cantidad de personas en la puerta D4: \"))\n",
        "\n",
        "A5 = int(input(\"Ingrese la cantidad de personas en la puerta A5: \"))\n",
        "B5 = int(input(\"Ingrese la cantidad de personas en la puerta B5: \"))\n",
        "C5 = int(input(\"Ingrese la cantidad de personas en la puerta C5: \"))\n",
        "D5 = int(input(\"Ingrese la cantidad de personas en la puerta D5: \"))\n",
        "\n",
        "A6 = int(input(\"Ingrese la cantidad de personas en la puerta A6: \"))\n",
        "B6 = int(input(\"Ingrese la cantidad de personas en la puerta B6: \"))\n",
        "C6 = int(input(\"Ingrese la cantidad de personas en la puerta C6: \"))\n",
        "D6 = int(input(\"Ingrese la cantidad de personas en la puerta D6: \"))\n",
        "\n",
        "Habitantes = input(\"Introduce la puerta con el mayor numero de habitantes: \")"
      ]
    }
  ]
}