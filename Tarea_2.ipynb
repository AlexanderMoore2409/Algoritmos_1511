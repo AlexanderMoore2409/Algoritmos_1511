{
  "nbformat": 4,
  "nbformat_minor": 0,
  "metadata": {
    "colab": {
      "name": "Tarea 2",
      "provenance": [],
      "collapsed_sections": [],
      "authorship_tag": "ABX9TyPtTgtOfDvm/Xo14owDXztk",
      "include_colab_link": true
    },
    "kernelspec": {
      "name": "python3",
      "display_name": "Python 3"
    },
    "language_info": {
      "name": "python"
    }
  },
  "cells": [
    {
      "cell_type": "markdown",
      "metadata": {
        "id": "view-in-github",
        "colab_type": "text"
      },
      "source": [
        "<a href=\"https://colab.research.google.com/github/AlexanderMoore2409/Algoritmos_1511/blob/main/Tarea_2.ipynb\" target=\"_parent\"><img src=\"https://colab.research.google.com/assets/colab-badge.svg\" alt=\"Open In Colab\"/></a>"
      ]
    },
    {
      "cell_type": "code",
      "execution_count": 20,
      "metadata": {
        "colab": {
          "base_uri": "https://localhost:8080/"
        },
        "id": "1aSGzv59bHIY",
        "outputId": "0ff5527b-5401-41ad-f774-16a3fa30627f"
      },
      "outputs": [
        {
          "output_type": "stream",
          "name": "stdout",
          "text": [
            "Tarea: Habitantes de un edificio.\n",
            "Ingrese la cantidad de habitantes en la puerta A1: 1\n",
            "Ingrese la cantidad de habitantes en la puerta B1: 2\n",
            "Ingrese la cantidad de habitantes en la puerta C1: 3\n",
            "Ingrese la cantidad de habitantes en la puerta D1: 4\n",
            "Ingrese la cantidad de habitantes en la puerta A2: 5\n",
            "Ingrese la cantidad de habitantes en la puerta B2: 6\n",
            "Ingrese la cantidad de habitantes en la puerta C2: 7\n",
            "Ingrese la cantidad de habitantes en la puerta D2: 8\n",
            "Ingrese la cantidad de habitantes en la puerta A3: 9\n",
            "Ingrese la cantidad de habitantes en la puerta B3: 1\n",
            "Ingrese la cantidad de habitantes en la puerta C3: 2\n",
            "Ingrese la cantidad de habitantes en la puerta D3: 3\n",
            "Ingrese la cantidad de habitantes en la puerta A4: 4\n",
            "Ingrese la cantidad de habitantes en la puerta B4: 5\n",
            "Ingrese la cantidad de habitantes en la puerta C4: 6\n",
            "Ingrese la cantidad de habitantes en la puerta D4: 7\n",
            "Ingrese la cantidad de habitantes en la puerta A5: 8\n",
            "Ingrese la cantidad de habitantes en la puerta B5: 9\n",
            "Ingrese la cantidad de habitantes en la puerta C5: 0\n",
            "Ingrese la cantidad de habitantes en la puerta D5: 1\n",
            "Ingrese la cantidad de habitantes en la puerta A6: 2\n",
            "Ingrese la cantidad de habitantes en la puerta B6: 3\n",
            "Ingrese la cantidad de habitantes en la puerta C6: 4\n",
            "Ingrese la cantidad de habitantes en la puerta D6: 5\n",
            "Introduce la puerta con el mayor numero de habitantes: 6\n",
            "La puerta con el mayor numero de habitantes es:  6\n"
          ]
        }
      ],
      "source": [
        "print(\"Tarea: Habitantes de un edificio.\")\n",
        "\n",
        "A1 = int(input(\"Ingrese la cantidad de habitantes en la puerta A1: \"))\n",
        "B1 = int(input(\"Ingrese la cantidad de habitantes en la puerta B1: \"))\n",
        "C1 = int(input(\"Ingrese la cantidad de habitantes en la puerta C1: \"))\n",
        "D1 = int(input(\"Ingrese la cantidad de habitantes en la puerta D1: \"))\n",
        "\n",
        "A2 = int(input(\"Ingrese la cantidad de habitantes en la puerta A2: \"))\n",
        "B2 = int(input(\"Ingrese la cantidad de habitantes en la puerta B2: \"))\n",
        "C2 = int(input(\"Ingrese la cantidad de habitantes en la puerta C2: \"))\n",
        "D2 = int(input(\"Ingrese la cantidad de habitantes en la puerta D2: \"))\n",
        "\n",
        "A3 = int(input(\"Ingrese la cantidad de habitantes en la puerta A3: \"))\n",
        "B3 = int(input(\"Ingrese la cantidad de habitantes en la puerta B3: \"))\n",
        "C3 = int(input(\"Ingrese la cantidad de habitantes en la puerta C3: \"))\n",
        "D3 = int(input(\"Ingrese la cantidad de habitantes en la puerta D3: \"))\n",
        "\n",
        "A4 = int(input(\"Ingrese la cantidad de habitantes en la puerta A4: \"))\n",
        "B4 = int(input(\"Ingrese la cantidad de habitantes en la puerta B4: \"))\n",
        "C4 = int(input(\"Ingrese la cantidad de habitantes en la puerta C4: \"))\n",
        "D4 = int(input(\"Ingrese la cantidad de habitantes en la puerta D4: \"))\n",
        "\n",
        "A5 = int(input(\"Ingrese la cantidad de habitantes en la puerta A5: \"))\n",
        "B5 = int(input(\"Ingrese la cantidad de habitantes en la puerta B5: \"))\n",
        "C5 = int(input(\"Ingrese la cantidad de habitantes en la puerta C5: \"))\n",
        "D5 = int(input(\"Ingrese la cantidad de habitantes en la puerta D5: \"))\n",
        "\n",
        "A6 = int(input(\"Ingrese la cantidad de habitantes en la puerta A6: \"))\n",
        "B6 = int(input(\"Ingrese la cantidad de habitantes en la puerta B6: \"))\n",
        "C6 = int(input(\"Ingrese la cantidad de habitantes en la puerta C6: \"))\n",
        "D6 = int(input(\"Ingrese la cantidad de habitantes en la puerta D6: \"))\n",
        "\n",
        "Habitantes = input(\"Introduce la puerta con el mayor numero de habitantes: \")\n",
        "print(\"La puerta con el mayor numero de habitantes es: \", Habitantes)"
      ]
    },
    {
      "cell_type": "code",
      "source": [
        "Habitantes = input(\"Introduce la puerta con el mayor numero de habitantes: \")\n",
        "print(\"La puerta con el mayor numero de habitantes es: \", Habitantes)"
      ],
      "metadata": {
        "colab": {
          "base_uri": "https://localhost:8080/"
        },
        "id": "-DE6lHazn-6g",
        "outputId": "1c4b3e49-b4f3-4f01-81d9-983f16fdd448"
      },
      "execution_count": 18,
      "outputs": [
        {
          "output_type": "stream",
          "name": "stdout",
          "text": [
            "Introduce la puerta con el mayor numero de habitantes: A3\n",
            "La puerta con el mayor numero de habitantes es:  A3\n"
          ]
        }
      ]
    }
  ]
}